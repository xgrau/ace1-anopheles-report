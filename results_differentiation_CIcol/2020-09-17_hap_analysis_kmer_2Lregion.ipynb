{
 "cells": [
  {
   "cell_type": "markdown",
   "metadata": {},
   "source": [
    "# Haplotype analysis for genes in high-$PBS$ regions\n",
    "\n",
    "## Input\n",
    "\n",
    "Input files and parameters:"
   ]
  },
  {
   "cell_type": "code",
   "execution_count": 1,
   "metadata": {},
   "outputs": [],
   "source": [
    "# output\n",
    "outdir   = \"results_pbs_candidates\" # where to store output\n",
    "popc     = \"population\"\n",
    "\n",
    "# gene of interest\n",
    "chrom     = \"2L\"\n",
    "l_nom     = \"2Lregion\" # nom loci\n",
    "loc_start = 8662023-1e5     # start gene\n",
    "loc_end   = 8662023+1e5     # end gene\n",
    "\n",
    "# input data phase1\n",
    "oc_metasam_fn = \"../metadata/samples.meta_phenotypes_acegenotype.simple.txt\"\n",
    "oc_hapcall_fn = \"/home/xavi/Documents/VariationAg1k/data/phase2.AR1/haplotypes/zarr2/ag1000g.phase2.ar1.samples/\"\n",
    "oc_accessi_fn = \"/home/xavi/Documents/VariationAg1k/data/phase2.AR1/accessibility/accessibility.h5\"\n",
    "oc_popc       = popc\n",
    "oc_popl       = [\"CIcol\"]\n",
    "\n",
    "# gff\n",
    "gffann_fn  = \"../metadata/Anopheles-gambiae-PEST_BASEFEATURES_AgamP4.9.gff3\""
   ]
  },
  {
   "cell_type": "code",
   "execution_count": 2,
   "metadata": {},
   "outputs": [],
   "source": [
    "import numpy as np\n",
    "import pandas as pd\n",
    "import allel\n",
    "import h5py\n",
    "import zarr\n",
    "import matplotlib.pyplot as plt\n",
    "from matplotlib.backends.backend_pdf import PdfPages\n",
    "import seaborn as sns\n",
    "import itertools\n",
    "from scipy.spatial.distance import squareform\n",
    "\n",
    "# load plot settings\n",
    "sns.set(context=\"notebook\",style=\"ticks\",\n",
    "        font_scale=1,font=\"Arial\",palette=\"bright\")"
   ]
  },
  {
   "cell_type": "markdown",
   "metadata": {},
   "source": [
    "## Load data\n",
    "\n",
    "### Phase1 variants\n",
    "\n",
    "Population and sample data:"
   ]
  },
  {
   "cell_type": "code",
   "execution_count": 3,
   "metadata": {},
   "outputs": [
    {
     "name": "stdout",
     "output_type": "stream",
     "text": [
      "Data:\n",
      "* Samples     =  71\n",
      "* Populations =  {'CIcol'}\n",
      "population\n",
      "CIcol    71\n",
      "dtype: int64\n"
     ]
    }
   ],
   "source": [
    "# load samples list with sample code, groupings, locations etc.\n",
    "oc_samples_df   = pd.read_csv(oc_metasam_fn, sep='\\t')\n",
    "oc_samples_bool = (oc_samples_df[oc_popc].isin(oc_popl).values)\n",
    "oc_samples      = oc_samples_df[oc_samples_bool]\n",
    "oc_samples.reset_index(drop=True, inplace=True)\n",
    "\n",
    "# indexed dictionary of populations\n",
    "oc_popdict = dict()\n",
    "for popi in oc_popl: \n",
    "    oc_popdict[popi]  = oc_samples[oc_samples[oc_popc] == popi].index.tolist()\n",
    "\n",
    "# add an extra population composed of all other locations\n",
    "oc_popdict[\"all\"] = []\n",
    "for popi in oc_popl:\n",
    "    oc_popdict[\"all\"] = oc_popdict[\"all\"] + oc_popdict[popi]\n",
    "\n",
    "\n",
    "# report\n",
    "print(\"Data:\")\n",
    "print(\"* Samples     = \", oc_samples.shape[0])\n",
    "print(\"* Populations = \", set(oc_samples[oc_popc]))\n",
    "print(oc_samples.groupby((\"population\")).size())"
   ]
  },
  {
   "cell_type": "markdown",
   "metadata": {},
   "source": [
    "Phased variants and genotypes:"
   ]
  },
  {
   "cell_type": "code",
   "execution_count": 4,
   "metadata": {},
   "outputs": [
    {
     "name": "stdout",
     "output_type": "stream",
     "text": [
      "Variants phased...\n",
      "(8906423,)\n",
      "Genotypes phased...\n",
      "(8906423, 71, 2)\n"
     ]
    }
   ],
   "source": [
    "# declare objects with variant data\n",
    "oc_hapcall   = zarr.open(oc_hapcall_fn)\n",
    "# variants of genotypes\n",
    "print(\"Variants phased...\")\n",
    "oc_hapcall_var = oc_hapcall[chrom][\"variants\"]\n",
    "oc_hapvars = allel.VariantChunkedTable(oc_hapcall_var,names=[\"POS\",\"REF\",\"ALT\"],index=\"POS\") \n",
    "print(oc_hapvars.shape)\n",
    "# genotype data\n",
    "print(\"Genotypes phased...\")\n",
    "oc_hapcall_hap = oc_hapcall[chrom][\"calldata\"][\"genotype\"]\n",
    "oc_haploty     = allel.GenotypeChunkedArray(oc_hapcall_hap) \n",
    "oc_haploty     = oc_haploty.subset(sel1=oc_samples_bool)\n",
    "print(oc_haploty.shape)"
   ]
  },
  {
   "cell_type": "markdown",
   "metadata": {},
   "source": [
    "Get haplotypes from phased variants:"
   ]
  },
  {
   "cell_type": "code",
   "execution_count": 5,
   "metadata": {},
   "outputs": [
    {
     "name": "stdout",
     "output_type": "stream",
     "text": [
      "Expand phase haplotypes...\n",
      "(8906423, 142)\n"
     ]
    }
   ],
   "source": [
    "# recast haplotypes: drop ploidy\n",
    "print(\"Expand phase haplotypes...\")\n",
    "oc_haploty_hap = oc_haploty.to_haplotypes()\n",
    "print(oc_haploty_hap.shape)"
   ]
  },
  {
   "cell_type": "markdown",
   "metadata": {},
   "source": [
    "### Sample data\n",
    "\n",
    "Get dataframe from metadata file, with sample codes, species and populations:"
   ]
  },
  {
   "cell_type": "code",
   "execution_count": 6,
   "metadata": {},
   "outputs": [
    {
     "name": "stdout",
     "output_type": "stream",
     "text": [
      "(71, 4)\n"
     ]
    }
   ],
   "source": [
    "oc_samples = pd.DataFrame(data={\n",
    "    \"ox_code\"    :  oc_samples[\"ox_code\"].values.tolist() ,\n",
    "    \"species\"    :  oc_samples[\"m_s\"].values.astype(str).tolist(),\n",
    "    \"population\" :  oc_samples[oc_popc].values.tolist() ,\n",
    "    \"phenotype\"  :  oc_samples[\"phenotype\"].values.tolist()\n",
    "})\n",
    "print(oc_samples.shape)\n",
    "\n",
    "# rename species...\n",
    "oc_samples[\"species\"].values[oc_samples[\"species\"].values == \"M\"]   = \"col\"\n",
    "oc_samples[\"species\"].values[oc_samples[\"species\"].values == \"S\"]   = \"gam\"\n",
    "oc_samples[\"species\"].values[oc_samples[\"species\"].values == \"M/S\"] = \"gamcol\"\n",
    "oc_samples[\"species\"].values[oc_samples[\"species\"].values == \"M-S\"] = \"gamcol\"\n",
    "oc_samples[\"species\"].values[oc_samples[\"species\"].values == \"nan\"] = \"gamcol\"\n",
    "\n",
    "# obtain population & species list\n",
    "oc_popl = np.unique(oc_samples[\"population\"].values)\n",
    "oc_spsl = np.unique(oc_samples[\"species\"].values)"
   ]
  },
  {
   "cell_type": "markdown",
   "metadata": {},
   "source": [
    "Duplicate rows in metadata dataframe, to get population metadata from each haplotype:"
   ]
  },
  {
   "cell_type": "code",
   "execution_count": 7,
   "metadata": {},
   "outputs": [
    {
     "name": "stdout",
     "output_type": "stream",
     "text": [
      "(142, 4)\n"
     ]
    }
   ],
   "source": [
    "oc_sampleh = pd.DataFrame(data={\n",
    "    \"ox_code\"    :  list(itertools.chain(*[[ s + 'a', s + 'b'] for s in oc_samples[\"ox_code\"].values.tolist()])),    # takes col from oc_samples and duplicates it, a/b\n",
    "    \"species\"    :  list(itertools.chain(*[[ s      , s      ] for s in oc_samples[\"species\"].values.tolist()])),\n",
    "    \"population\" :  list(itertools.chain(*[[ s      , s      ] for s in oc_samples[\"population\"].values.tolist()])),\n",
    "    \"phenotype\"  :  list(itertools.chain(*[[ s      , s      ] for s in oc_samples[\"phenotype\"].values.tolist()]))\n",
    "})\n",
    "print(oc_sampleh.shape)"
   ]
  },
  {
   "cell_type": "code",
   "execution_count": 8,
   "metadata": {},
   "outputs": [
    {
     "name": "stdout",
     "output_type": "stream",
     "text": [
      "Population dict...\n",
      "Population dict phased...\n"
     ]
    }
   ],
   "source": [
    "print(\"Population dict...\")\n",
    "oc_popdict = dict()\n",
    "oc_popdict[\"CIcol\"] = oc_samples[oc_samples[\"population\"] == popi].index.tolist()\n",
    "\n",
    "print(\"Population dict phased...\")\n",
    "oc_popdich = dict()\n",
    "oc_popdich[\"CIcol\"] = oc_sampleh[oc_sampleh[\"population\"] == popi].index.tolist()"
   ]
  },
  {
   "cell_type": "markdown",
   "metadata": {},
   "source": [
    "### Allele counts\n",
    "\n",
    "Using both dictionaries:"
   ]
  },
  {
   "cell_type": "code",
   "execution_count": 9,
   "metadata": {},
   "outputs": [
    {
     "name": "stdout",
     "output_type": "stream",
     "text": [
      "Genotypes phased to allele counts (population)...\n",
      "(8906423,)\n",
      "Haplotypes phased to allele counts (population)...\n",
      "(8906423,)\n"
     ]
    }
   ],
   "source": [
    "print(\"Genotypes phased to allele counts (population)...\")\n",
    "oc_hapalco_pop = oc_haploty.count_alleles_subpops(subpops=oc_popdict)\n",
    "print(oc_hapalco_pop.shape)\n",
    "\n",
    "print(\"Haplotypes phased to allele counts (population)...\")\n",
    "oc_hapalco_hap_pop = oc_haploty_hap.count_alleles_subpops(subpops=oc_popdich)\n",
    "print(oc_hapalco_hap_pop.shape)"
   ]
  },
  {
   "cell_type": "markdown",
   "metadata": {},
   "source": [
    "### Filters\n",
    "\n",
    "#### Retain segregating and non-singletons\n",
    "\n",
    "Define which phased variants to retain from phase1:"
   ]
  },
  {
   "cell_type": "code",
   "execution_count": 10,
   "metadata": {},
   "outputs": [
    {
     "name": "stdout",
     "output_type": "stream",
     "text": [
      "Filters phased...\n",
      "(1365695, 71, 2) / (8906423, 71, 2)\n"
     ]
    }
   ],
   "source": [
    "# subset data: segregating alleles & no singletons\n",
    "print(\"Filters phased...\")\n",
    "oc_is_seg_h    = oc_hapalco_hap_pop[\"CIcol\"].is_segregating()[:] # segregating\n",
    "oc_is_nosing_h = oc_hapalco_hap_pop[\"CIcol\"][:,:2].min(axis=1)>1 # no singletons\n",
    "\n",
    "# subset phase2 to segregating & no singletons\n",
    "oc_hapvars_seg         = oc_hapvars.compress((oc_is_seg_h & oc_is_nosing_h))\n",
    "oc_haploty_seg         = oc_haploty.compress((oc_is_seg_h & oc_is_nosing_h))\n",
    "oc_hapalco_pop_seg     = oc_hapalco_pop.compress((oc_is_seg_h & oc_is_nosing_h))\n",
    "oc_haploty_hap_seg     = oc_haploty_hap.compress((oc_is_seg_h & oc_is_nosing_h))\n",
    "oc_hapalco_hap_pop_seg = oc_hapalco_hap_pop.compress((oc_is_seg_h & oc_is_nosing_h))\n",
    "\n",
    "# report\n",
    "print(oc_haploty_seg.shape,\"/\", oc_haploty.shape)"
   ]
  },
  {
   "cell_type": "markdown",
   "metadata": {},
   "source": [
    "### Other data\n",
    "\n",
    "Accessibility:"
   ]
  },
  {
   "cell_type": "code",
   "execution_count": 11,
   "metadata": {},
   "outputs": [
    {
     "name": "stdout",
     "output_type": "stream",
     "text": [
      "Load accessibility array...\n"
     ]
    }
   ],
   "source": [
    "# Accessibility\n",
    "print(\"Load accessibility array...\")\n",
    "accessi_df  = h5py.File(oc_accessi_fn,mode=\"r\")\n",
    "accessi_arr = accessi_df[chrom][\"is_accessible\"][:]"
   ]
  },
  {
   "cell_type": "markdown",
   "metadata": {},
   "source": [
    "## Selection signals in clusters\n",
    "\n",
    "We want to see if the resistant individuals have positive selection. \n",
    "\n",
    "In selection signal analyses, we cluster haplotypes in the following groups (derived from the networks above):\n",
    "\n",
    "* `sweep`: cluster of n=122 haplotypes that belong to the selective sweep\n",
    "* `wt`: all other haplotypes, non-clustered\n",
    "\n",
    "Create dictionary:"
   ]
  },
  {
   "cell_type": "code",
   "execution_count": 12,
   "metadata": {},
   "outputs": [
    {
     "data": {
      "text/plain": [
       "(1365695,)"
      ]
     },
     "execution_count": 12,
     "metadata": {},
     "output_type": "execute_result"
    }
   ],
   "source": [
    "popdich_clu = dict()\n",
    "\n",
    "# clusters, and non clustered\n",
    "popdich_clu[\"alive\"] = np.where(oc_sampleh[\"phenotype\"] == \"alive\")[0]\n",
    "popdich_clu[\"dead\"]  = np.where(oc_sampleh[\"phenotype\"] == \"dead\")[0]\n",
    "\n",
    "# allele counts in these clusters:\n",
    "oc_hapalco_hap_clu_seg = oc_haploty_hap_seg.count_alleles_subpops(subpops=popdich_clu)\n",
    "oc_hapalco_hap_clu_seg.shape"
   ]
  },
  {
   "cell_type": "markdown",
   "metadata": {},
   "source": [
    "Colors for plot:"
   ]
  },
  {
   "cell_type": "code",
   "execution_count": 13,
   "metadata": {},
   "outputs": [],
   "source": [
    "# list colors for each haplotype in popdich_clu.keys()\n",
    "colors = [\"blue\",\"lightgray\"]"
   ]
  },
  {
   "cell_type": "markdown",
   "metadata": {},
   "source": [
    "### EHH decay\n",
    "\n",
    "Now calculate **EHH decay** on the region of interest, using phased variants around various variants.\n",
    "\n",
    "Common parameters for EHH plots:"
   ]
  },
  {
   "cell_type": "code",
   "execution_count": 14,
   "metadata": {},
   "outputs": [],
   "source": [
    "ehh_above_thr = 0.50\n",
    "ehh_below_thr = 0.05\n",
    "flank_bp_EHH  = 2e5"
   ]
  },
  {
   "cell_type": "markdown",
   "metadata": {},
   "source": [
    "Central variant for the EHH plot. First, the I236M mutation:"
   ]
  },
  {
   "cell_type": "code",
   "execution_count": 15,
   "metadata": {},
   "outputs": [],
   "source": [
    "loc_vari = int((loc_start + loc_end)/2)"
   ]
  },
  {
   "cell_type": "code",
   "execution_count": 16,
   "metadata": {},
   "outputs": [
    {
     "name": "stdout",
     "output_type": "stream",
     "text": [
      "EHH alive\n",
      "EHH dead\n"
     ]
    },
    {
     "data": {
      "image/png": "[encoded data removed]",
      "text/plain": [
       "<Figure size 288x216 with 1 Axes>"
      ]
     },
     "metadata": {},
     "output_type": "display_data"
    }
   ],
   "source": [
    "# variants to retain\n",
    "clu_varbool_up = np.logical_and(oc_hapvars_seg[\"POS\"] >= loc_start-flank_bp_EHH, oc_hapvars_seg[\"POS\"] < loc_start)\n",
    "clu_varbool_do = np.logical_and(oc_hapvars_seg[\"POS\"] > loc_end, oc_hapvars_seg[\"POS\"] <= loc_end+flank_bp_EHH)\n",
    "clu_varbool    = np.logical_or(clu_varbool_up,clu_varbool_do)\n",
    "\n",
    "# samples to remove from analysis (EHH function can't handle missing -1 data)\n",
    "rmv_miss_ix   = np.unique(np.where(oc_haploty_hap_seg.subset(sel0=clu_varbool) == -1)[1]).tolist()\n",
    "rmv_miss_bool = np.invert(np.isin(range(0,oc_haploty_hap_seg.n_haplotypes),test_elements=rmv_miss_ix))\n",
    "\n",
    "# positions\n",
    "clu_ehh_pos = oc_hapvars_seg[\"POS\"].subset(sel0=clu_varbool)\n",
    "\n",
    "# plot\n",
    "pdf = PdfPages(\"%s/sel_%s_EHHdecay.pdf\" % (outdir,l_nom))\n",
    "fig = plt.figure(figsize=(4,3))\n",
    "ax3 = plt.subplot(1, 1, 1)\n",
    "\n",
    "for i,clu_key in enumerate(popdich_clu.keys()):\n",
    "\n",
    "    print(\"EHH %s\" % clu_key)\n",
    "\n",
    "    # which variants include in the cluster-wise analysis of selection?\n",
    "    clu_sambool = np.isin(range(0,oc_haploty_hap_seg.n_haplotypes),test_elements=popdich_clu[clu_key])\n",
    "    clu_sambool = np.logical_and(clu_sambool,rmv_miss_bool)\n",
    "    \n",
    "    # calculate actual EHH\n",
    "    clu_ehh_up_i = allel.ehh_decay(h=oc_haploty_hap_seg.subset(sel0=clu_varbool_up,sel1=clu_sambool))\n",
    "    clu_ehh_do_i = allel.ehh_decay(h=oc_haploty_hap_seg.subset(sel0=clu_varbool_do,sel1=clu_sambool))\n",
    "    clu_ehh_i    = np.concatenate((clu_ehh_up_i[::-1],clu_ehh_do_i))\n",
    "    clu_ehh_i_ar = np.trapz(clu_ehh_i)\n",
    "    ehh_above_start = clu_ehh_pos.compress(clu_ehh_i > ehh_above_thr)[0]\n",
    "    ehh_above_end   = clu_ehh_pos.compress(clu_ehh_i > ehh_above_thr)[-1]\n",
    "    ehh_below_start = clu_ehh_pos.compress(clu_ehh_i < ehh_below_thr)[0]\n",
    "    ehh_below_end   = clu_ehh_pos.compress(clu_ehh_i < ehh_below_thr)[-1]\n",
    "\n",
    "    # lab is data\n",
    "    clu_lab    = \"%s, n=%i, a=%.3f\\nEHH>%.2f: %i bp %i-%i\\nEHH<%.2f: %i bp %i-%i\" % (\n",
    "        clu_key, len(popdich_clu[clu_key]),clu_ehh_i_ar, \n",
    "        ehh_above_thr, ehh_above_end-ehh_above_start, ehh_above_start, ehh_above_end,\n",
    "        ehh_below_thr, ehh_below_end-ehh_below_start, ehh_below_start, ehh_below_end\n",
    "    )\n",
    "    \n",
    "    # plot EHH background & foreground\n",
    "    ax3.plot(clu_ehh_pos/1e6,clu_ehh_i,color=colors[i],label=clu_lab,mfc='none')\n",
    "\n",
    "sns.despine(ax=ax3,offset=10)\n",
    "ax3.set_title(\"EHH decay %s, %s:%i-%i +/- %i, n=%s vars\" % (l_nom,chrom,loc_start,loc_end,flank_bp_EHH,clu_ehh_pos.shape[0]))\n",
    "ax3.set_xlabel(\"Mb\")\n",
    "ax3.set_ylabel(\"EHH\")\n",
    "ax3.set_ylim(0,1)\n",
    "plt.axhline(ehh_above_thr, color='lightgray',linestyle=\":\",label=str(ehh_above_thr))\n",
    "plt.axhline(ehh_below_thr, color='lightgray',linestyle=\":\",label=str(ehh_below_thr))\n",
    "plt.axvline(loc_start/1e6, color='magenta',linestyle=\":\",label=\"gene\")\n",
    "plt.axvline(loc_end/1e6, color='magenta',linestyle=\":\",label=\"\")\n",
    "ax3.legend(loc='center left', bbox_to_anchor=(1.1, 0.5))\n",
    "\n",
    "# save\n",
    "pdf.savefig(fig,bbox_inches='tight')\n",
    "pdf.close()"
   ]
  },
  {
   "cell_type": "markdown",
   "metadata": {},
   "source": [
    "### Garud H and haplotype diversity\n",
    "\n",
    "Compute **Garud H statistics and haplotype diversity** for each cluster and estimates in the region of interest. Plots represent a wide region around the gene, and statistics are estimated from variants within the cluster only."
   ]
  },
  {
   "cell_type": "code",
   "execution_count": 17,
   "metadata": {},
   "outputs": [],
   "source": [
    "# variants to examine\n",
    "block_size = 200\n",
    "\n",
    "# region to plot\n",
    "flanking_bp = 2e5\n",
    "clu_varbool = np.logical_and(\n",
    "    oc_hapvars_seg[\"POS\"] >= loc_start-flanking_bp,\n",
    "    oc_hapvars_seg[\"POS\"] <= loc_end+flanking_bp)\n",
    "\n",
    "# region to focus: statistics will be calcualted in this region\n",
    "clu_varbool_focus = np.logical_and(oc_hapvars_seg[\"POS\"] > loc_start-flank_bp_EHH, oc_hapvars_seg[\"POS\"] <= loc_end+flank_bp_EHH)"
   ]
  },
  {
   "cell_type": "markdown",
   "metadata": {},
   "source": [
    "First, for H12 plot:"
   ]
  },
  {
   "cell_type": "code",
   "execution_count": 18,
   "metadata": {},
   "outputs": [
    {
     "name": "stdout",
     "output_type": "stream",
     "text": [
      "alive\n",
      "H12 = 0.036229 +/- 0.001239 SE, n = 62\n",
      "dead\n",
      "H12 = 0.033169 +/- 0.000842 SE, n = 80\n"
     ]
    },
    {
     "data": {
      "image/png": "[encoded data removed]",
      "text/plain": [
       "<Figure size 288x216 with 1 Axes>"
      ]
     },
     "metadata": {},
     "output_type": "display_data"
    }
   ],
   "source": [
    "# open PDF\n",
    "pdf = PdfPages(\"%s/sel_%s_GarudH12.pdf\" % (outdir,l_nom))\n",
    "fig = plt.figure(figsize=(4,3))\n",
    "ax9 = plt.subplot(1, 1, 1)\n",
    "\n",
    "for i,clu_key in enumerate(popdich_clu.keys()):\n",
    "\n",
    "    # which variants include in the cluster-wise analysis of selection?\n",
    "    clu_sambool = np.isin(range(0,oc_haploty_hap_seg.n_haplotypes),test_elements=popdich_clu[clu_key])\n",
    "    clu_sambool = np.logical_and(clu_sambool,rmv_miss_bool)\n",
    "\n",
    "    # Garud H along chromosome\n",
    "    clu_pos_wib = allel.moving_statistic(\n",
    "        oc_hapvars_seg[\"POS\"].subset(sel0=clu_varbool), statistic=lambda v: v[0], size=block_size)\n",
    "    clu_gah_wib = allel.moving_garud_h(\n",
    "        oc_haploty_hap_seg.subset(sel0=clu_varbool,sel1=clu_sambool), size=block_size)\n",
    "    \n",
    "    # garud in focus region\n",
    "    gah_focus_est = allel.moving_garud_h(oc_haploty_hap_seg.subset(sel0=clu_varbool_focus, sel1=clu_sambool), size=block_size)\n",
    "    gah_focus_est_jack = allel.stats.misc.jackknife(gah_focus_est[1], statistic=np.nanmean)\n",
    "    clu_label = \"%s\\nH12 = %.6f +/- %.6f SE, n = %i\" % (clu_key, gah_focus_est_jack[0], gah_focus_est_jack[1],np.sum(clu_sambool))\n",
    "    print(clu_label)\n",
    "\n",
    "    # plot\n",
    "    plt.step(clu_pos_wib/1e6, clu_gah_wib[1], color=colors[i], label=clu_label)\n",
    "    \n",
    "\n",
    "sns.despine(ax=ax9,offset=10)\n",
    "ax9.set_title(\"Garud H12\")\n",
    "ax9.set_ylim(0,1)\n",
    "ax9.set_xlabel(\"Mb\")\n",
    "ax9.set_ylabel(\"h\")\n",
    "plt.axvline(loc_start/1e6, color='magenta',linestyle=\":\",label=\"gene\")\n",
    "plt.axvline(loc_end/1e6, color='magenta',linestyle=\":\",label=\"\")\n",
    "ax9.legend(loc='center left', bbox_to_anchor=(1.1, 0.5))\n",
    "\n",
    "# save\n",
    "pdf.savefig(fig,bbox_inches='tight')\n",
    "pdf.close()"
   ]
  },
  {
   "cell_type": "markdown",
   "metadata": {},
   "source": [
    "Now, same with H2/H1 plot:"
   ]
  },
  {
   "cell_type": "code",
   "execution_count": 19,
   "metadata": {
    "scrolled": false
   },
   "outputs": [
    {
     "name": "stdout",
     "output_type": "stream",
     "text": [
      "alive\n",
      "H2H1 = 0.785773 +/- 0.010639 SE, n = 62\n"
     ]
    },
    {
     "name": "stderr",
     "output_type": "stream",
     "text": [
      "/home/xavi/miniconda3/envs/ace/lib/python3.7/site-packages/ipykernel_launcher.py:25: MatplotlibDeprecationWarning: Adding an axes using the same arguments as a previous axes currently reuses the earlier instance.  In a future version, a new instance will always be created and returned.  Meanwhile, this warning can be suppressed, and the future behavior ensured, by passing a unique label to each axes instance.\n"
     ]
    },
    {
     "name": "stdout",
     "output_type": "stream",
     "text": [
      "dead\n",
      "H2H1 = 0.784615 +/- 0.009864 SE, n = 80\n"
     ]
    },
    {
     "name": "stderr",
     "output_type": "stream",
     "text": [
      "/home/xavi/miniconda3/envs/ace/lib/python3.7/site-packages/ipykernel_launcher.py:25: MatplotlibDeprecationWarning: Adding an axes using the same arguments as a previous axes currently reuses the earlier instance.  In a future version, a new instance will always be created and returned.  Meanwhile, this warning can be suppressed, and the future behavior ensured, by passing a unique label to each axes instance.\n"
     ]
    },
    {
     "data": {
      "image/png": "[encoded data removed]",
      "text/plain": [
       "<Figure size 288x216 with 1 Axes>"
      ]
     },
     "metadata": {},
     "output_type": "display_data"
    }
   ],
   "source": [
    "# open PDF\n",
    "pdf = PdfPages(\"%s/sel_%s_GarudH2H1.pdf\" % (outdir,l_nom))\n",
    "fig = plt.figure(figsize=(4,3))\n",
    "ax9 = plt.subplot(1, 1, 1)\n",
    "\n",
    "for i,clu_key in enumerate(popdich_clu.keys()):\n",
    "\n",
    "    # which variants include in the cluster-wise analysis of selection?\n",
    "    clu_sambool = np.isin(range(0,oc_haploty_hap_seg.n_haplotypes),test_elements=popdich_clu[clu_key])\n",
    "    clu_sambool = np.logical_and(clu_sambool,rmv_miss_bool)\n",
    "\n",
    "    # Garud H along chromosome\n",
    "    clu_pos_wib = allel.moving_statistic(\n",
    "        oc_hapvars_seg[\"POS\"].subset(sel0=clu_varbool), statistic=lambda v: v[0], size=block_size)\n",
    "    clu_gah_wib = allel.moving_garud_h(\n",
    "        oc_haploty_hap_seg.subset(sel0=clu_varbool,sel1=clu_sambool), size=block_size)\n",
    "    \n",
    "    # garud in focus region\n",
    "    gah_focus_est = allel.moving_garud_h(oc_haploty_hap_seg.subset(sel0=clu_varbool_focus, sel1=clu_sambool), size=100)\n",
    "    gah_focus_est_jack = allel.stats.misc.jackknife(gah_focus_est[3], statistic=np.nanmean)\n",
    "    clu_label = \"%s\\nH2H1 = %.6f +/- %.6f SE, n = %i\" % (clu_key, gah_focus_est_jack[0], gah_focus_est_jack[1],np.sum(clu_sambool))\n",
    "    print(clu_label)\n",
    "\n",
    "    # plot\n",
    "    plt.subplot(1, 1, 1)\n",
    "    plt.step(clu_pos_wib/1e6, clu_gah_wib[3], color=colors[i], label=clu_label)\n",
    "    \n",
    "\n",
    "sns.despine(ax=ax9,offset=10)\n",
    "ax9.set_title(\"Garud H2H1\")\n",
    "ax9.set_ylim(0,1)\n",
    "ax9.set_xlabel(\"Mb\")\n",
    "ax9.set_ylabel(\"H2H1\")\n",
    "plt.axvline(loc_start/1e6, color='magenta',linestyle=\":\",label=\"gene\")\n",
    "plt.axvline(loc_end/1e6, color='magenta',linestyle=\":\",label=\"\")\n",
    "ax9.legend(loc='center left', bbox_to_anchor=(1.1, 0.5))\n",
    "\n",
    "# save\n",
    "pdf.savefig(fig,bbox_inches='tight')\n",
    "pdf.close()"
   ]
  },
  {
   "cell_type": "markdown",
   "metadata": {},
   "source": [
    "Finally, haplotype diversity:"
   ]
  },
  {
   "cell_type": "code",
   "execution_count": 20,
   "metadata": {},
   "outputs": [
    {
     "name": "stdout",
     "output_type": "stream",
     "text": [
      "alive\n",
      "h = 0.981487 +/- 0.000720 SE, n = 62\n"
     ]
    },
    {
     "name": "stderr",
     "output_type": "stream",
     "text": [
      "/home/xavi/miniconda3/envs/ace/lib/python3.7/site-packages/ipykernel_launcher.py:25: MatplotlibDeprecationWarning: Adding an axes using the same arguments as a previous axes currently reuses the earlier instance.  In a future version, a new instance will always be created and returned.  Meanwhile, this warning can be suppressed, and the future behavior ensured, by passing a unique label to each axes instance.\n"
     ]
    },
    {
     "name": "stdout",
     "output_type": "stream",
     "text": [
      "dead\n",
      "h = 0.979192 +/- 0.000722 SE, n = 80\n"
     ]
    },
    {
     "name": "stderr",
     "output_type": "stream",
     "text": [
      "/home/xavi/miniconda3/envs/ace/lib/python3.7/site-packages/ipykernel_launcher.py:25: MatplotlibDeprecationWarning: Adding an axes using the same arguments as a previous axes currently reuses the earlier instance.  In a future version, a new instance will always be created and returned.  Meanwhile, this warning can be suppressed, and the future behavior ensured, by passing a unique label to each axes instance.\n"
     ]
    },
    {
     "data": {
      "image/png": "[encoded data removed]",
      "text/plain": [
       "<Figure size 288x216 with 1 Axes>"
      ]
     },
     "metadata": {},
     "output_type": "display_data"
    }
   ],
   "source": [
    "# open PDF\n",
    "pdf = PdfPages(\"%s/sel_%s_hapdiv.pdf\" % (outdir,l_nom))\n",
    "fig = plt.figure(figsize=(4,3))\n",
    "ax9 = plt.subplot(1, 1, 1)\n",
    "\n",
    "for i,clu_key in enumerate(popdich_clu.keys()):\n",
    "\n",
    "    # which variants include in the cluster-wise analysis of selection?\n",
    "    clu_sambool = np.isin(range(0,oc_haploty_hap_seg.n_haplotypes),test_elements=popdich_clu[clu_key])\n",
    "    clu_sambool = np.logical_and(clu_sambool,rmv_miss_bool)\n",
    "\n",
    "    # hap div along chromosome\n",
    "    clu_pos_wib = allel.moving_statistic(\n",
    "        oc_hapvars_seg[\"POS\"].subset(sel0=clu_varbool), statistic=lambda v: v[0], size=block_size)\n",
    "    clu_hdi_wib = allel.moving_haplotype_diversity(\n",
    "        oc_haploty_hap_seg.subset(sel0=clu_varbool,sel1=clu_sambool), size=block_size)\n",
    "    \n",
    "    # garud in focus region\n",
    "    gah_focus_est = allel.moving_haplotype_diversity(oc_haploty_hap_seg.subset(sel0=clu_varbool_focus, sel1=clu_sambool), size=100)\n",
    "    gah_focus_est_jack = allel.stats.misc.jackknife(gah_focus_est, statistic=np.nanmean)\n",
    "    clu_label = \"%s\\nh = %.6f +/- %.6f SE, n = %i\" % (clu_key, gah_focus_est_jack[0], gah_focus_est_jack[1],np.sum(clu_sambool))\n",
    "    print(clu_label)\n",
    "\n",
    "    # plot\n",
    "    plt.subplot(1, 1, 1)\n",
    "    plt.step(clu_pos_wib/1e6, clu_hdi_wib, color=colors[i], label=clu_label)\n",
    "    \n",
    "sns.despine(ax=ax9,offset=10)\n",
    "ax9.set_title(\"Hap diversity\")\n",
    "ax9.set_ylim(0,1)\n",
    "ax9.set_xlabel(\"Mb\")\n",
    "ax9.set_ylabel(\"h\")\n",
    "plt.axvline(loc_start/1e6, color='magenta',linestyle=\":\",label=\"gene\")\n",
    "plt.axvline(loc_end/1e6, color='magenta',linestyle=\":\",label=\"\")\n",
    "ax9.legend(loc='center left', bbox_to_anchor=(1.1, 0.5))\n",
    "\n",
    "# save\n",
    "pdf.savefig(fig,bbox_inches='tight')\n",
    "pdf.close()"
   ]
  }
 ],
 "metadata": {
  "kernelspec": {
   "display_name": "Python 3",
   "language": "python",
   "name": "python3"
  },
  "language_info": {
   "codemirror_mode": {
    "name": "ipython",
    "version": 3
   },
   "file_extension": ".py",
   "mimetype": "text/x-python",
   "name": "python",
   "nbconvert_exporter": "python",
   "pygments_lexer": "ipython3",
   "version": "3.7.4"
  }
 },
 "nbformat": 4,
 "nbformat_minor": 4
}
