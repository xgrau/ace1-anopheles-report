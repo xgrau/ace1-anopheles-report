{
 "cells": [
  {
   "cell_type": "markdown",
   "metadata": {},
   "source": [
    "## Input\n",
    "\n",
    "Input files:"
   ]
  },
  {
   "cell_type": "code",
   "execution_count": 1,
   "metadata": {},
   "outputs": [],
   "source": [
    "# input data\n",
    "outdir     = \"results_hap_analysis/\"\n",
    "metasam_fn = \"metadata/samples.meta_phenotypes.txt\"\n",
    "callset_fn = \"/media/xavi/Saigon/Variation/phase2.AR1_ALL/variation/ag1000g.phase2.ar1.2R.h5\"\n",
    "snpeff_fn  = \"/media/xavi/Saigon/Variation/phase2.AR1_ALL/snpeff/ag1000g.phase2.ar1.snpeff.AgamP4.2.2R.h5\"\n",
    "accessi_fn = \"/home/xavi/Documents/VariationAg1k/data/phase2.AR1/accessibility/accessibility.h5\"\n",
    "gffann_fn  = \"metadata/Anopheles-gambiae-PEST_BASEFEATURES_AgamP4.9.gff3\""
   ]
  },
  {
   "cell_type": "code",
   "execution_count": 2,
   "metadata": {},
   "outputs": [],
   "source": [
    "import numpy as np\n",
    "import pandas as pd\n",
    "import allel\n",
    "import h5py\n",
    "import scipy\n",
    "from scipy.spatial.distance import squareform\n",
    "import matplotlib.pyplot as plt\n",
    "import matplotlib.patches as mpatches\n",
    "from matplotlib.backends.backend_pdf import PdfPages\n",
    "import seaborn as sns"
   ]
  },
  {
   "cell_type": "code",
   "execution_count": 3,
   "metadata": {},
   "outputs": [],
   "source": [
    "# define populations\n",
    "outcode    = \"out\"\n",
    "popl       = [\"AOcol\",\"BFcol\",\"BFgam\",\"CIcol\",\"CMgam\",\"FRgam\",\"GAgam\",\"GHcol\",\"GHgam\",\"GM\",\"GNcol\",\"GNgam\",\"GQgam\",\"GW\",\"KE\",\"UGgam\"]\n",
    "popc       = \"population\"\n",
    "\n",
    "# gene coordinates\n",
    "chrom = \"2R\"\n",
    "ace_start = 3489213\n",
    "ace_end   = 3493788\n",
    "ace_119S  = 3492074\n",
    "\n",
    "# duplication coordinates\n",
    "ace_dups  = 3436800 # start duplication\n",
    "ace_dupe  = 3639600 # end duplication\n",
    "\n",
    "# exclude these samples\n",
    "excludec   = \"ox_code\"\n",
    "excludel   = [\"NO RES\"]\n",
    "# traits to subset\n",
    "sub1c      = \"population\"\n",
    "sub1l      = [\"AOcol\",\"BFcol\",\"BFgam\",\"CIcol\",\"CMgam\",\"FRgam\",\"GAgam\",\"GHcol\",\"GHgam\",\"GM\",\"GNcol\",\"GNgam\",\"GQgam\",\"GW\",\"KE\",\"UGgam\"]\n",
    "# min frq to retain minor allele\n",
    "minfrq     = 0.05\n",
    "\n",
    "# flanking bp or num haps, to retain in analysis\n",
    "fbp_var    = 0     # num bp to retain around loci of interest (gene), should be 0"
   ]
  },
  {
   "cell_type": "code",
   "execution_count": 4,
   "metadata": {},
   "outputs": [],
   "source": [
    "# load plot settings\n",
    "sns.set(context=\"notebook\",style=\"ticks\",\n",
    "        font_scale=1,font=\"Arial\",palette=\"bright\")"
   ]
  },
  {
   "cell_type": "markdown",
   "metadata": {},
   "source": [
    "## Load data\n",
    "\n",
    "Load genotypes, haplotypes, variants, effects, etc:"
   ]
  },
  {
   "cell_type": "code",
   "execution_count": 5,
   "metadata": {},
   "outputs": [
    {
     "name": "stdout",
     "output_type": "stream",
     "text": [
      "Samples bool...\n",
      "Load variants...\n",
      "Load genotypes...\n"
     ]
    }
   ],
   "source": [
    "# LOAD DATA\n",
    "print(\"Samples bool...\")\n",
    "# load samples list with sample code, groupings, locations etc.\n",
    "samples_df   = pd.read_csv(metasam_fn, sep='\\t')\n",
    "samples_bool = (\n",
    "    samples_df[popc].isin(popl).values & \n",
    "    samples_df[sub1c].isin(sub1l).values &\n",
    "    ~samples_df[excludec].isin(excludel).values)\n",
    "samples_sub  = samples_df[samples_bool]\n",
    "samples_sub.reset_index(drop=True, inplace=True)\n",
    "\n",
    "\n",
    "# genotypes: variants\n",
    "# callset     = zarr.open(callset_fn)\n",
    "callset     = h5py.File(callset_fn,mode=\"r\")\n",
    "snpeff_zr   = h5py.File(snpeff_fn,mode=\"r\")\n",
    "print(\"Load variants...\")\n",
    "callset_var = callset[chrom][\"variants\"]\n",
    "genvars     = allel.VariantChunkedTable(callset_var,names=[\"POS\",\"REF\",\"ALT\",\"num_alleles\"],index=\"POS\") # variants\n",
    "genveff     = allel.VariantChunkedTable(snpeff_zr[chrom][\"variants\"],names=[\"POS\",\"ANN\"],index=\"POS\") # variant effects\n",
    "pos_bool    = np.logical_and(genvars[\"POS\"] >= ace_dups - fbp_var, \n",
    "                             genvars[\"POS\"] <= ace_dupe + fbp_var)\n",
    "genvars_sub = genvars.compress(pos_bool)\n",
    "genveff_sub = genveff[:].compress(pos_bool)\n",
    "\n",
    "# genotypes: calldata\n",
    "print(\"Load genotypes...\")\n",
    "callset_gen = callset[chrom][\"calldata\"][\"genotype\"]\n",
    "genotyp     = allel.GenotypeChunkedArray(callset_gen)\n",
    "genotyp_sub = genotyp.subset(sel0=pos_bool, sel1=samples_bool)"
   ]
  },
  {
   "cell_type": "code",
   "execution_count": 6,
   "metadata": {},
   "outputs": [
    {
     "name": "stdout",
     "output_type": "stream",
     "text": [
      "Samples dictionary...\n"
     ]
    },
    {
     "data": {
      "text/plain": [
       "population\n",
       "AOcol     78\n",
       "BFcol     75\n",
       "BFgam     92\n",
       "CIcol     71\n",
       "CMgam    297\n",
       "FRgam     24\n",
       "GAgam     69\n",
       "GHcol     55\n",
       "GHgam     12\n",
       "GM        65\n",
       "GNcol      4\n",
       "GNgam     40\n",
       "GQgam      9\n",
       "GW        91\n",
       "KE        48\n",
       "UGgam    112\n",
       "dtype: int64"
      ]
     },
     "execution_count": 6,
     "metadata": {},
     "output_type": "execute_result"
    }
   ],
   "source": [
    "print(\"Samples dictionary...\")\n",
    "# indexed dictionary of populations\n",
    "popdict = dict()\n",
    "for popi in popl: \n",
    "    popdict[popi]  = samples_sub[samples_sub[popc] == popi].index.tolist()\n",
    "\n",
    "# add an extra population composed of all other locations\n",
    "popdict[\"all\"] = []\n",
    "for popi in popl:\n",
    "    popdict[\"all\"] = popdict[\"all\"] + popdict[popi]\n",
    "\n",
    "gen_pops_count = samples_sub.groupby(popc).size()\n",
    "gen_pops_count"
   ]
  },
  {
   "cell_type": "code",
   "execution_count": 7,
   "metadata": {},
   "outputs": [
    {
     "name": "stdout",
     "output_type": "stream",
     "text": [
      "Allele counts genotypes...\n"
     ]
    }
   ],
   "source": [
    "# genotypes: allele counts\n",
    "print(\"Allele counts genotypes...\")\n",
    "genalco_sub = genotyp_sub.count_alleles_subpops(subpops=popdict)"
   ]
  },
  {
   "cell_type": "code",
   "execution_count": 8,
   "metadata": {},
   "outputs": [
    {
     "name": "stdout",
     "output_type": "stream",
     "text": [
      "loci: 2R:3436800-3639600\n",
      "22805 filt vars\n",
      "107810 vars in region, 24767689 in chr\n"
     ]
    },
    {
     "name": "stderr",
     "output_type": "stream",
     "text": [
      "/home/xavi/miniconda3/lib/python3.7/site-packages/ipykernel_launcher.py:16: RuntimeWarning: invalid value encountered in true_divide\n",
      "  app.launch_new_instance()\n"
     ]
    }
   ],
   "source": [
    "# SUBSET DATA\n",
    "\n",
    "# filter genotypes: segregating alleles, biallelic, no singletons, coding\n",
    "is_seg      = genalco_sub[\"all\"].is_segregating()[:]   # segregating in at least one population?\n",
    "is_bia      = genvars_sub[\"num_alleles\"] == 2          # biallelic \"==2\" | multiallelic \">1\"\n",
    "is_nosing   = genalco_sub[\"all\"][:,:2].min(axis=1) > 1 # no singletons\n",
    "is_coding   = np.asarray([genveff_sub[\"ANN\"][i][1].astype(str) == \"missense_variant\" for i,_ in enumerate(genveff_sub[\"ANN\"])])\n",
    "\n",
    "# subset data: keep variants with at least 5% freq in at least one pop\n",
    "co_major = pd.DataFrame() # data={\"chr\" : chrom, \"pos\" : genvars_sub[\"POS\"][:]}\n",
    "co_minor = pd.DataFrame()\n",
    "fq_minor = pd.DataFrame()\n",
    "for popi in popl: \n",
    "    co_major[popi] = genalco_sub[popi][:,0]\n",
    "    co_minor[popi] = genalco_sub[popi][:,1]\n",
    "    fq_minor[popi] = genalco_sub[popi][:,1] / genalco_sub[popi][:,0:2].sum(axis=1)\n",
    "co_major[\"all\"] = co_major.sum(axis=1)\n",
    "co_minor[\"all\"] = co_minor.sum(axis=1)\n",
    "fq_minor[\"all\"] = co_minor.sum(axis=1) / (co_minor.sum(axis=1)+co_major.sum(axis=1))\n",
    "is_minfq = fq_minor.max(axis=1) > minfrq\n",
    "# fqminb1 = fq_minor.max(axis=1) > minfrq\n",
    "# fqminb2 = fq_minor.min(axis=1) < 1-minfrq\n",
    "# is_minfq = np.logical_and(fqminb1,fqminb2)\n",
    "#is_minfq = fq_minor[\"all\"] > 0.05\n",
    "\n",
    "# which variants to keep\n",
    "filsnp_bool = (is_seg[:] & is_nosing[:] & is_minfq[:])\n",
    "\n",
    "# report\n",
    "print(\"loci: %s:%i-%i\\n%i filt vars\\n%i vars in region, %i in chr\" % \n",
    "      (chrom,ace_dups,ace_dupe,np.sum(filsnp_bool),len(genvars_sub),len(genvars)))"
   ]
  },
  {
   "cell_type": "markdown",
   "metadata": {},
   "source": [
    "Now, apply filters:"
   ]
  },
  {
   "cell_type": "code",
   "execution_count": 9,
   "metadata": {},
   "outputs": [
    {
     "name": "stdout",
     "output_type": "stream",
     "text": [
      "Apply filters...\n"
     ]
    }
   ],
   "source": [
    "# apply filters\n",
    "print(\"Apply filters...\")\n",
    "genotyp_seg = genotyp_sub.compress(filsnp_bool)\n",
    "genvars_seg = genvars_sub.compress(filsnp_bool)\n",
    "genalco_seg = genalco_sub.compress(filsnp_bool)\n",
    "genveff_seg = genveff_sub[:].compress(filsnp_bool)\n",
    "    \n",
    "# SNP name\n",
    "snpname_seg = np.array(\n",
    "    [chrom+\":\"+x1+\" \"+x2+\" \"+x3 for x1,x2,x3 in zip(\n",
    "        np.asarray(genvars_seg[\"POS\"]).astype(str),\n",
    "        np.asarray([genveff_seg[\"ANN\"][i][10].astype(str) for i,_ in enumerate(genveff_seg[\"ANN\"])]),\n",
    "        np.asarray([genveff_seg[\"ANN\"][i][3].astype(str) for i,_ in enumerate(genveff_seg[\"ANN\"])])\n",
    "    )]\n",
    ")"
   ]
  },
  {
   "cell_type": "markdown",
   "metadata": {},
   "source": [
    "Find variant where the `G119S` variant is (actually `G280S`):"
   ]
  },
  {
   "cell_type": "code",
   "execution_count": 10,
   "metadata": {},
   "outputs": [
    {
     "name": "stdout",
     "output_type": "stream",
     "text": [
      "pos 3492074 index 6799\n"
     ]
    }
   ],
   "source": [
    "intvar_pos = 3492074\n",
    "intvar_ix  = np.where(genvars_seg[:][\"POS\"]==intvar_pos)[0][0]\n",
    "\n",
    "print(\"pos\",intvar_pos,\"index\",intvar_ix)"
   ]
  },
  {
   "cell_type": "code",
   "execution_count": 11,
   "metadata": {},
   "outputs": [
    {
     "name": "stdout",
     "output_type": "stream",
     "text": [
      "AOcol \t 156 \t 0 \t 0.0\n",
      "BFcol \t 147 \t 3 \t 0.02\n",
      "BFgam \t 155 \t 29 \t 0.15760869565217392\n",
      "CIcol \t 80 \t 62 \t 0.43661971830985913\n",
      "CMgam \t 594 \t 0 \t 0.0\n",
      "FRgam \t 48 \t 0 \t 0.0\n",
      "GAgam \t 138 \t 0 \t 0.0\n",
      "GHcol \t 103 \t 7 \t 0.06363636363636363\n",
      "GHgam \t 8 \t 16 \t 0.6666666666666666\n",
      "GM \t 130 \t 0 \t 0.0\n",
      "GNcol \t 8 \t 0 \t 0.0\n",
      "GNgam \t 71 \t 9 \t 0.1125\n",
      "GQgam \t 18 \t 0 \t 0.0\n",
      "GW \t 182 \t 0 \t 0.0\n",
      "KE \t 96 \t 0 \t 0.0\n",
      "UGgam \t 224 \t 0 \t 0.0\n"
     ]
    }
   ],
   "source": [
    "for popi in popl:\n",
    "    print(\n",
    "        popi,\"\\t\",\n",
    "        genalco_seg[popi][int(intvar_ix)][0],\"\\t\",\n",
    "        genalco_seg[popi][int(intvar_ix)][1],\"\\t\",\n",
    "        genalco_seg[popi][int(intvar_ix)][1]/sum(genalco_seg[popi][int(intvar_ix)])\n",
    "    )"
   ]
  },
  {
   "cell_type": "markdown",
   "metadata": {},
   "source": [
    "Output table with genotypes per sample in the G119S variant:"
   ]
  },
  {
   "cell_type": "code",
   "execution_count": 12,
   "metadata": {},
   "outputs": [
    {
     "data": {
      "text/plain": [
       "array([0, 0, 0, ..., 1, 1, 1], dtype=int8)"
      ]
     },
     "execution_count": 12,
     "metadata": {},
     "output_type": "execute_result"
    }
   ],
   "source": [
    "genotyp_seg[:].to_n_alt(fill=-1)[intvar_ix]"
   ]
  },
  {
   "cell_type": "code",
   "execution_count": 13,
   "metadata": {},
   "outputs": [],
   "source": [
    "num_popa = co_minor.shape[1]\n",
    "df = pd.DataFrame(data={\n",
    "    \"ox_code\"    : samples_sub[\"ox_code\"].values,\n",
    "    \"population\" : samples_sub[\"population\"].values,\n",
    "    \"genotype\"   : genotyp_seg[:].to_n_alt(fill=-1)[intvar_ix],\n",
    "    \"phenotype\"  : samples_sub[\"phenotype\"].values,\n",
    "},\n",
    "columns=[\"ox_code\",\"population\",\"genotype\",\"phenotype\"]\n",
    ")\n",
    "df.to_csv(\"%s/Genotype_3492074_G119S.csv\" % (outdir),sep=\"\\t\",index=False)"
   ]
  },
  {
   "cell_type": "markdown",
   "metadata": {},
   "source": [
    "Do the same thing for A65S, which is also segregating in CI:"
   ]
  },
  {
   "cell_type": "code",
   "execution_count": 14,
   "metadata": {},
   "outputs": [
    {
     "name": "stdout",
     "output_type": "stream",
     "text": [
      "pos 3489405 index 6592\n"
     ]
    }
   ],
   "source": [
    "jntvar_pos = 3489405\n",
    "jntvar_ix  = np.where(genvars_seg[:][\"POS\"]==jntvar_pos)[0][0]\n",
    "\n",
    "print(\"pos\",jntvar_pos,\"index\",jntvar_ix)"
   ]
  },
  {
   "cell_type": "code",
   "execution_count": 15,
   "metadata": {},
   "outputs": [
    {
     "data": {
      "text/plain": [
       "array([1, 1, 2, ..., 1, 1, 2], dtype=int8)"
      ]
     },
     "execution_count": 15,
     "metadata": {},
     "output_type": "execute_result"
    }
   ],
   "source": [
    "genotyp_seg[:].to_n_alt(fill=-1)[jntvar_ix]"
   ]
  },
  {
   "cell_type": "code",
   "execution_count": 16,
   "metadata": {},
   "outputs": [],
   "source": [
    "num_popa = co_minor.shape[1]\n",
    "df = pd.DataFrame(data={\n",
    "    \"ox_code\"    : samples_sub[\"ox_code\"].values,\n",
    "    \"population\" : samples_sub[\"population\"].values,\n",
    "    \"genotype\"   : genotyp_seg[:].to_n_alt(fill=-1)[jntvar_ix],\n",
    "    \"phenotype\"  : samples_sub[\"phenotype\"].values,\n",
    "},\n",
    "columns=[\"ox_code\",\"population\",\"genotype\",\"phenotype\"]\n",
    ")\n",
    "df.to_csv(\"%s/Genotype_3489405_A65S.csv\" % (outdir),sep=\"\\t\",index=False)"
   ]
  },
  {
   "cell_type": "markdown",
   "metadata": {},
   "source": [
    "## Linkage disequilibrium\n",
    "\n",
    "Calculate linkage disequilibrium for all variants within the duplication:"
   ]
  },
  {
   "cell_type": "code",
   "execution_count": 17,
   "metadata": {},
   "outputs": [
    {
     "name": "stdout",
     "output_type": "stream",
     "text": [
      "LD Rogers & Huff...\n"
     ]
    }
   ],
   "source": [
    "# linkage disequilibrium\n",
    "print(\"LD Rogers & Huff...\")\n",
    "ld_rhr = allel.rogers_huff_r(genotyp_seg.to_n_alt(fill=-1))\n",
    "ld_rhr = squareform(ld_rhr)\n",
    "np.fill_diagonal(ld_rhr,np.nan)"
   ]
  },
  {
   "cell_type": "code",
   "execution_count": 18,
   "metadata": {},
   "outputs": [
    {
     "name": "stdout",
     "output_type": "stream",
     "text": [
      "LD Rogers & Huff...\n"
     ]
    }
   ],
   "source": [
    "# linkage disequilibrium\n",
    "print(\"LD Rogers & Huff...\")\n",
    "ld_rhr_CIcol = allel.rogers_huff_r(genotyp_seg.subset(sel1=popdict[\"CIcol\"]).to_n_alt(fill=-1))\n",
    "ld_rhr_CIcol = squareform(ld_rhr_CIcol)\n",
    "np.fill_diagonal(ld_rhr_CIcol,np.nan)"
   ]
  },
  {
   "cell_type": "markdown",
   "metadata": {},
   "source": [
    "Print table:"
   ]
  },
  {
   "cell_type": "code",
   "execution_count": 19,
   "metadata": {},
   "outputs": [],
   "source": [
    "# report\n",
    "# variant effects (variants in region of interest: duplication)\n",
    "fq_repor = pd.DataFrame(data={\n",
    "    \"chr\" : chrom,\n",
    "    \"POS\" : genvars_seg[\"POS\"][:].astype(str),\n",
    "    \"REF\" : genvars_seg[\"REF\"][:].astype(str),\n",
    "    \"ALT\" : genvars_seg[\"ALT\"][:].astype(str)[:,0],\n",
    "    \"gene_eff\" : [genveff_seg[\"ANN\"][i][3].astype(str)  for i,_ in enumerate(genveff_seg[\"ANN\"])],\n",
    "    \"PEP_eff\"  : [genveff_seg[\"ANN\"][i][10].astype(str) for i,_ in enumerate(genveff_seg[\"ANN\"])],\n",
    "    \"CDS_eff\"  : [genveff_seg[\"ANN\"][i][9].astype(str)  for i,_ in enumerate(genveff_seg[\"ANN\"])],\n",
    "},\n",
    ")\n",
    "\n",
    "# add global LD to 280S\n",
    "fq_repor[\"LDr_allpops\"] = ld_rhr[intvar_ix,]\n",
    "fq_repor[\"LDr_CIcol\"]   = ld_rhr_CIcol[intvar_ix,]\n",
    "\n",
    "# add minor and major counts and frequencies\n",
    "fq_repos = pd.concat( [ fq_minor[filsnp_bool], co_minor[filsnp_bool] ], axis=1)\n",
    "fq_repos = pd.concat( [ fq_repos,              co_major[filsnp_bool] ], axis=1)\n",
    "fq_repos_newcols = [str(col) + '_fqmin' for col in fq_repos.columns[0:num_popa]] + [str(col) + '_comin' for col in fq_repos.columns[num_popa:num_popa*2]] + [str(col) + '_comaj' for col in fq_repos.columns[num_popa*2:num_popa*3]]\n",
    "fq_repos.columns = fq_repos_newcols\n",
    "fq_repor = pd.concat([fq_repor,fq_repos.reset_index(drop=True)], axis=1)\n",
    "\n",
    "# print table\n",
    "fq_repor.to_csv(\"%s/AlleleFq_tab.csv\" % (outdir),sep=\"\\t\",index=False)"
   ]
  },
  {
   "cell_type": "markdown",
   "metadata": {},
   "source": [
    "Find which variants in the duplication have high LD (`LD>0.95`) with variant `G119S`:"
   ]
  },
  {
   "cell_type": "code",
   "execution_count": 20,
   "metadata": {},
   "outputs": [
    {
     "name": "stdout",
     "output_type": "stream",
     "text": [
      "2R:3444618 . AGAP001355-AGA \tindex = 901 \tLD = 0.97264516 \tfq CIcol =  0.43661971830985913\n",
      "2R:3445910 . AGAP001355-AGA \tindex = 1055 \tLD = 0.9504605 \tfq CIcol =  0.43661971830985913\n",
      "2R:3447556 . AGAP001355-AGA \tindex = 1234 \tLD = 0.96361303 \tfq CIcol =  0.43661971830985913\n",
      "2R:3456166 . AGAP001355-AGA \tindex = 2415 \tLD = 0.9675373 \tfq CIcol =  0.43661971830985913\n",
      "2R:3456937 . AGAP001355-AGA \tindex = 2507 \tLD = 0.97637683 \tfq CIcol =  0.43661971830985913\n",
      "2R:3459582 . AGAP001355-AGA \tindex = 2840 \tLD = 0.9591772 \tfq CIcol =  0.43661971830985913\n",
      "2R:3464705 . AGAP001355-AGA \tindex = 3411 \tLD = 0.96810204 \tfq CIcol =  0.43661971830985913\n",
      "2R:3465693 . AGAP001355-AGA \tindex = 3670 \tLD = 0.96810204 \tfq CIcol =  0.43661971830985913\n",
      "2R:3466268 . AGAP001355-AGA \tindex = 3733 \tLD = 0.9719312 \tfq CIcol =  0.43661971830985913\n",
      "2R:3469441 . AGAP001355-AGA \tindex = 4121 \tLD = 0.95479333 \tfq CIcol =  0.43661971830985913\n",
      "2R:3469672 . AGAP001355-AGA \tindex = 4151 \tLD = 0.96308875 \tfq CIcol =  0.43661971830985913\n",
      "2R:3473524 . AGAP001355-AGA \tindex = 4598 \tLD = 0.9801159 \tfq CIcol =  0.4295774647887324\n",
      "2R:3475119 . AGAP001355-AGA \tindex = 4824 \tLD = 0.9658597 \tfq CIcol =  0.43661971830985913\n",
      "2R:3477273 . AGAP001355-AGA \tindex = 5078 \tLD = 0.9533271 \tfq CIcol =  0.4357142857142857\n",
      "2R:3477809 . AGAP001355-AGA \tindex = 5135 \tLD = 0.98811066 \tfq CIcol =  0.43661971830985913\n",
      "2R:3478595 . AGAP001355-AGA \tindex = 5267 \tLD = 1.0 \tfq CIcol =  0.43661971830985913\n",
      "2R:3479474 . AGAP001356 \tindex = 5360 \tLD = 0.98421353 \tfq CIcol =  0.43661971830985913\n",
      "2R:3480330 . AGAP001356 \tindex = 5466 \tLD = 1.0 \tfq CIcol =  0.43661971830985913\n",
      "2R:3480406 . AGAP001356 \tindex = 5473 \tLD = 0.98421353 \tfq CIcol =  0.43661971830985913\n",
      "2R:3481632 . AGAP001356 \tindex = 5651 \tLD = 0.96864766 \tfq CIcol =  0.4295774647887324\n",
      "2R:3482092 . AGAP001356 \tindex = 5684 \tLD = 0.9716037 \tfq CIcol =  0.4154929577464789\n",
      "2R:3483376 . AGAP001356 \tindex = 5856 \tLD = 0.99236995 \tfq CIcol =  0.43661971830985913\n",
      "2R:3483539 . AGAP001356 \tindex = 5872 \tLD = 1.0 \tfq CIcol =  0.43661971830985913\n",
      "2R:3485781 . AGAP001356 \tindex = 6183 \tLD = 0.97213244 \tfq CIcol =  0.4295774647887324\n",
      "2R:3486607 . AGAP001356 \tindex = 6284 \tLD = 0.9959919 \tfq CIcol =  0.43661971830985913\n",
      "2R:3486857 . AGAP001356 \tindex = 6328 \tLD = 0.97655916 \tfq CIcol =  0.43661971830985913\n",
      "2R:3487859 . AGAP001356 \tindex = 6419 \tLD = 1.0 \tfq CIcol =  0.43661971830985913\n",
      "2R:3488770 . AGAP001356 \tindex = 6533 \tLD = 0.9571096 \tfq CIcol =  0.4154929577464789\n",
      "2R:3496635 . AGAP001357 \tindex = 7215 \tLD = 0.98388374 \tfq CIcol =  0.43661971830985913\n",
      "2R:3498622 . AGAP001357 \tindex = 7372 \tLD = 0.96866876 \tfq CIcol =  0.43661971830985913\n",
      "2R:3498740 . AGAP001357 \tindex = 7384 \tLD = 0.97213244 \tfq CIcol =  0.43661971830985913\n",
      "2R:3504796 . AGAP001357 \tindex = 7876 \tLD = 0.96453327 \tfq CIcol =  0.44366197183098594\n",
      "2R:3507961 . AGAP001357 \tindex = 8174 \tLD = 0.97605 \tfq CIcol =  0.4507042253521127\n",
      "2R:3510000 . AGAP001358 \tindex = 8330 \tLD = 0.9549824 \tfq CIcol =  0.44366197183098594\n"
     ]
    },
    {
     "name": "stderr",
     "output_type": "stream",
     "text": [
      "/home/xavi/miniconda3/lib/python3.7/site-packages/ipykernel_launcher.py:2: RuntimeWarning: invalid value encountered in greater\n",
      "  \n",
      "/home/xavi/miniconda3/lib/python3.7/site-packages/ipykernel_launcher.py:14: FutureWarning: Series.compress(condition) is deprecated. Use 'Series[condition]' or 'np.asarray(series).compress(condition)' instead.\n",
      "  \n"
     ]
    }
   ],
   "source": [
    "ld_max    = max(ld_rhr[intvar_ix])\n",
    "ld_max_ix = np.where(ld_rhr[intvar_ix] > 0.95)\n",
    "\n",
    "genilist  = []\n",
    "geniname  = []\n",
    "for ixn,ixi in enumerate(ld_max_ix[0]):\n",
    "    genilist.append(genvars_seg[\"POS\"][ixi])\n",
    "    geniname.append(snpname_seg[ixi])\n",
    "    \n",
    "    \n",
    "    print(snpname_seg[ixi],\n",
    "          \"\\tindex =\",ld_max_ix[0][ixn],\n",
    "          \"\\tLD =\",ld_rhr[intvar_ix][ixi],\n",
    "          \"\\tfq CIcol = \",np.asarray(fq_minor[\"CIcol\"].compress(filsnp_bool))[ixi]\n",
    "         )\n"
   ]
  }
 ],
 "metadata": {
  "kernelspec": {
   "display_name": "Python 3",
   "language": "python",
   "name": "python3"
  },
  "language_info": {
   "codemirror_mode": {
    "name": "ipython",
    "version": 3
   },
   "file_extension": ".py",
   "mimetype": "text/x-python",
   "name": "python",
   "nbconvert_exporter": "python",
   "pygments_lexer": "ipython3",
   "version": "3.7.4"
  }
 },
 "nbformat": 4,
 "nbformat_minor": 2
}
