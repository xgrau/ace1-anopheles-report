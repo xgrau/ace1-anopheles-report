{
 "cells": [
  {
   "cell_type": "markdown",
   "metadata": {},
   "source": [
    "## Input\n",
    "\n",
    "Input files:"
   ]
  },
  {
   "cell_type": "code",
   "execution_count": 1,
   "metadata": {},
   "outputs": [],
   "source": [
    "# input data\n",
    "outdir     = \"results_hap_analysis\"\n",
    "metasam_fn = \"metadata/samples.meta_phenotypes.txt\"\n",
    "accessi_fn = \"/home/xavi/Documents/VariationAg1k/data/phase2.AR1/accessibility/accessibility.h5\"\n",
    "haploty_fn = \"/home/xavi/Documents/VariationAg1k/data/phase2.AR1/haplotypes/zarr2/ag1000g.phase2.ar1.samples/\""
   ]
  },
  {
   "cell_type": "code",
   "execution_count": 2,
   "metadata": {},
   "outputs": [],
   "source": [
    "# define populations\n",
    "outcode    = \"out\"\n",
    "popl       = [\"AOcol\",\"BFcol\",\"BFgam\",\"CIcol\",\"CMgam\",\"FRgam\",\"GAgam\",\"GHcol\",\"GHgam\",\"GM\",\"GNcol\",\"GNgam\",\"GQgam\",\"GW\",\"KE\",\"UGgam\"]\n",
    "popc       = \"population\"\n",
    "chrom      = \"2R\"\n",
    "l_nom      = \"umap\"\n",
    "\n",
    "# exclude these samples\n",
    "excludec   = \"ox_code\"\n",
    "excludel   = [\"NO RES\"]\n",
    "# traits to subset\n",
    "sub1c      = \"population\"\n",
    "sub1l      = [\"AOcol\",\"BFcol\",\"BFgam\",\"CIcol\",\"CMgam\",\"FRgam\",\"GAgam\",\"GHcol\",\"GHgam\",\"GM\",\"GNcol\",\"GNgam\",\"GQgam\",\"GW\",\"KE\",\"UGgam\"]\n",
    "\n",
    "# gene coordinates\n",
    "ace_start = 3489213\n",
    "ace_end   = 3493788\n",
    "ace_119S  = 3492074\n",
    "\n",
    "# duplication coordinates\n",
    "ace_dups  = 3436800 # start duplication\n",
    "ace_dupe  = 3639600 # end duplication\n",
    "\n",
    "# flanking bp or num haps, to retain in analysis\n",
    "fbp_var    = 1e4     # num bp to retain around loci of interest (duplication)"
   ]
  },
  {
   "cell_type": "code",
   "execution_count": 3,
   "metadata": {},
   "outputs": [],
   "source": [
    "import numpy as np\n",
    "import zarr\n",
    "import pandas as pd\n",
    "import allel\n",
    "import h5py\n",
    "import warnings\n",
    "import scipy\n",
    "from scipy.spatial.distance import squareform\n",
    "import matplotlib.pyplot as plt\n",
    "import matplotlib.patches as mpatches\n",
    "from matplotlib import cm\n",
    "from matplotlib.backends.backend_pdf import PdfPages\n",
    "import seaborn as sns\n",
    "import itertools\n",
    "from scipy.cluster.hierarchy import dendrogram\n",
    "from scipy.cluster.hierarchy import linkage"
   ]
  },
  {
   "cell_type": "code",
   "execution_count": 4,
   "metadata": {},
   "outputs": [],
   "source": [
    "def find_nearest(array, value):\n",
    "    array = np.asarray(array)\n",
    "    idx = (np.abs(array - value)).argmin()\n",
    "    return idx,array[idx]"
   ]
  },
  {
   "cell_type": "markdown",
   "metadata": {},
   "source": [
    "## Load data\n",
    "\n",
    "### Load genotypes"
   ]
  },
  {
   "cell_type": "code",
   "execution_count": 5,
   "metadata": {},
   "outputs": [
    {
     "name": "stdout",
     "output_type": "stream",
     "text": [
      "Samples bool...\n",
      "Samples dictionary...\n"
     ]
    },
    {
     "data": {
      "text/plain": [
       "population\n",
       "AOcol     78\n",
       "BFcol     75\n",
       "BFgam     92\n",
       "CIcol     71\n",
       "CMgam    297\n",
       "FRgam     24\n",
       "GAgam     69\n",
       "GHcol     55\n",
       "GHgam     12\n",
       "GM        65\n",
       "GNcol      4\n",
       "GNgam     40\n",
       "GQgam      9\n",
       "GW        91\n",
       "KE        48\n",
       "UGgam    112\n",
       "dtype: int64"
      ]
     },
     "execution_count": 5,
     "metadata": {},
     "output_type": "execute_result"
    }
   ],
   "source": [
    "# LOAD DATA\n",
    "print(\"Samples bool...\")\n",
    "# load samples list with sample code, groupings, locations etc.\n",
    "samples_df   = pd.read_csv(metasam_fn, sep='\\t')\n",
    "samples_bool = (\n",
    "    samples_df[popc].isin(popl).values & \n",
    "    samples_df[sub1c].isin(sub1l).values &\n",
    "    ~samples_df[excludec].isin(excludel).values)\n",
    "samples_sub  = samples_df[samples_bool]\n",
    "samples_sub.reset_index(drop=True, inplace=True)\n",
    "\n",
    "\n",
    "print(\"Samples dictionary...\")\n",
    "# indexed dictionary of populations\n",
    "popdict = dict()\n",
    "for popi in popl: \n",
    "    popdict[popi]  = samples_sub[samples_sub[popc] == popi].index.tolist()\n",
    "\n",
    "# add an extra population composed of all other locations\n",
    "popdict[\"all\"] = []\n",
    "for popi in popl:\n",
    "    popdict[\"all\"] = popdict[\"all\"] + popdict[popi]\n",
    "\n",
    "gen_pops_count = samples_sub.groupby(popc).size()\n",
    "gen_pops_count"
   ]
  },
  {
   "cell_type": "markdown",
   "metadata": {},
   "source": [
    "### Load haplotypes"
   ]
  },
  {
   "cell_type": "code",
   "execution_count": 6,
   "metadata": {},
   "outputs": [
    {
     "name": "stdout",
     "output_type": "stream",
     "text": [
      "Load haplotype variants...\n",
      "Load haplotype haplotypes...\n",
      "(12047846, 1142, 2)\n",
      "Drop ploidy haplotypes...\n",
      "(12047846, 2284)\n"
     ]
    }
   ],
   "source": [
    "# haplotypes: variants\n",
    "hapcall     = zarr.open(haploty_fn)\n",
    "print(\"Load haplotype variants...\")\n",
    "hapcall_var = hapcall[chrom][\"variants\"]\n",
    "hapvars     = allel.VariantChunkedTable(hapcall_var,names=[\"POS\",\"REF\",\"ALT\"],index=\"POS\")\n",
    "\n",
    "# haplotypes: phased genotypes\n",
    "print(\"Load haplotype haplotypes...\")\n",
    "hapcall_gen = hapcall[chrom][\"calldata/genotype\"]\n",
    "haploty_gen = allel.GenotypeChunkedArray(hapcall_gen)\n",
    "# find samples in haplotype dataset that coincide with genotypes\n",
    "haploty_sam = hapcall[chrom][\"samples\"][:].astype(str)\n",
    "hapsam_bool = np.isin(haploty_sam, np.array(samples_sub[\"ox_code\"]))\n",
    "haploty_gen = haploty_gen.subset(sel1=hapsam_bool)\n",
    "print(haploty_gen.shape)\n",
    "\n",
    "# recast haplotypes: drop ploidy\n",
    "print(\"Drop ploidy haplotypes...\")\n",
    "haploty_hap = haploty_gen.to_haplotypes()\n",
    "print(haploty_hap.shape)"
   ]
  },
  {
   "cell_type": "code",
   "execution_count": 7,
   "metadata": {},
   "outputs": [
    {
     "name": "stdout",
     "output_type": "stream",
     "text": [
      "Samples dictionary for haps...\n"
     ]
    },
    {
     "data": {
      "text/plain": [
       "population\n",
       "AOcol    156\n",
       "BFcol    150\n",
       "BFgam    184\n",
       "CIcol    142\n",
       "CMgam    594\n",
       "FRgam     48\n",
       "GAgam    138\n",
       "GHcol    110\n",
       "GHgam     24\n",
       "GM       130\n",
       "GNcol      8\n",
       "GNgam     80\n",
       "GQgam     18\n",
       "GW       182\n",
       "KE        96\n",
       "UGgam    224\n",
       "dtype: int64"
      ]
     },
     "execution_count": 7,
     "metadata": {},
     "output_type": "execute_result"
    }
   ],
   "source": [
    "# haplotype dicts\n",
    "# arrays of hap ids and populations of each hap (double the size of genotype arryays: 2 haps per individual except in X chromosome)\n",
    "print(\"Samples dictionary for haps...\")\n",
    "is_samp_in_hap = np.isin(np.array(samples_sub[\"ox_code\"]),haploty_sam)\n",
    "hap_ids        = np.array(list(itertools.chain(*[[s + 'a', s + 'b'] for s in haploty_sam[hapsam_bool]])))\n",
    "hap_pops       = np.array(list(itertools.chain(*[[s, s] for s in np.array(samples_sub[popc][is_samp_in_hap])])))\n",
    "hap_pops_count = pd.DataFrame(data={ popc : np.unique(hap_pops,return_counts=True)[0], \"counts\" : np.unique(hap_pops,return_counts=True)[1] }).set_index(popc)\n",
    "hap_pops_df    = pd.DataFrame(data={ popc : hap_pops})\n",
    "\n",
    "# pop dicts for haplotype data\n",
    "popdicthap = dict()\n",
    "for popi in popl: \n",
    "    popdicthap[popi]  = hap_pops_df[hap_pops_df[popc] == popi].index.tolist()\n",
    "\n",
    "popdicthap[\"all\"] = []\n",
    "for popi in popl:\n",
    "    popdicthap[\"all\"] = popdicthap[\"all\"] + popdicthap[popi]\n",
    "\n",
    "hap_pops_count = hap_pops_df.groupby(popc).size()\n",
    "hap_pops_count"
   ]
  },
  {
   "cell_type": "code",
   "execution_count": 8,
   "metadata": {},
   "outputs": [
    {
     "name": "stdout",
     "output_type": "stream",
     "text": [
      "Allele counts haplotypes...\n",
      "(12047846,)\n"
     ]
    }
   ],
   "source": [
    "# haplotypes: allele counts\n",
    "print(\"Allele counts haplotypes...\")\n",
    "hapalco_hap = haploty_hap.count_alleles_subpops(subpops=popdicthap)\n",
    "print(hapalco_hap.shape)"
   ]
  },
  {
   "cell_type": "markdown",
   "metadata": {},
   "source": [
    "Subset:"
   ]
  },
  {
   "cell_type": "code",
   "execution_count": 9,
   "metadata": {},
   "outputs": [
    {
     "name": "stdout",
     "output_type": "stream",
     "text": [
      "Apply filters haps...\n",
      "(6799278, 2284)\n",
      "(6799278,)\n",
      "Dask hapa...\n",
      "(12047846, 2284)\n"
     ]
    }
   ],
   "source": [
    "# filter haplotypes: segregating alleles, no singletons\n",
    "is_hapseg    = hapalco_hap[\"all\"].is_segregating()     # segregating\n",
    "is_hapnosing = hapalco_hap[\"all\"][:,:2].min(axis=1)>2  # no singletons\n",
    "filhap_bool  = (is_hapseg & is_hapnosing)\n",
    "\n",
    "# subset\n",
    "print(\"Apply filters haps...\")\n",
    "haploty_seg = haploty_hap.compress(filhap_bool)\n",
    "hapvars_seg = hapvars.compress(filhap_bool)\n",
    "hapalco_seg = hapalco_hap.compress(filhap_bool)\n",
    "print(haploty_seg.shape)\n",
    "print(hapalco_seg.shape)\n",
    "\n",
    "# reformat hap arrays as dask (for network function)\n",
    "print(\"Dask hapa...\")\n",
    "loci_pos     = allel.SortedIndex(hapcall_var['POS'])\n",
    "haploty_dask = allel.GenotypeDaskArray(hapcall_gen)\n",
    "haploty_dask = haploty_dask.subset(sel1=hapsam_bool)\n",
    "haploty_haps = haploty_dask.to_haplotypes()\n",
    "print(haploty_haps.shape)"
   ]
  },
  {
   "cell_type": "markdown",
   "metadata": {},
   "source": [
    "### Load other"
   ]
  },
  {
   "cell_type": "code",
   "execution_count": 10,
   "metadata": {},
   "outputs": [
    {
     "name": "stdout",
     "output_type": "stream",
     "text": [
      "Load accessibility array...\n"
     ]
    }
   ],
   "source": [
    "# Accessibility\n",
    "print(\"Load accessibility array...\")\n",
    "accessi_df  = h5py.File(accessi_fn,mode=\"r\")\n",
    "accessi_arr = accessi_df[chrom][\"is_accessible\"][:]"
   ]
  },
  {
   "cell_type": "markdown",
   "metadata": {},
   "source": [
    "## Variants linked to `280S` (tagging variants)\n",
    "\n",
    "Linked variants:"
   ]
  },
  {
   "cell_type": "code",
   "execution_count": 90,
   "metadata": {},
   "outputs": [
    {
     "data": {
      "text/plain": [
       "([3492074], ['umap'])"
      ]
     },
     "execution_count": 90,
     "metadata": {},
     "output_type": "execute_result"
    }
   ],
   "source": [
    "genilist = [3492074]\n",
    "geniname = [\"umap\"]\n",
    "genilist, geniname"
   ]
  },
  {
   "cell_type": "markdown",
   "metadata": {},
   "source": [
    "Read in UMAP-based haplotype clusterings, create per-hap samples dataframe:"
   ]
  },
  {
   "cell_type": "code",
   "execution_count": 97,
   "metadata": {},
   "outputs": [
    {
     "name": "stdout",
     "output_type": "stream",
     "text": [
      "p2_rfc_prediction  population\n",
      "0                  AOcol         156\n",
      "                   BFcol         147\n",
      "                   BFgam         139\n",
      "                   CIcol          93\n",
      "                   CMgam         594\n",
      "                   FRgam          48\n",
      "                   GAgam         138\n",
      "                   GHcol         109\n",
      "                   GHgam          14\n",
      "                   GM            130\n",
      "                   GNcol           8\n",
      "                   GNgam          68\n",
      "                   GQgam          18\n",
      "                   GW            182\n",
      "                   KE             96\n",
      "                   UGgam         224\n",
      "1                  BFcol           3\n",
      "                   BFgam          45\n",
      "                   CIcol          49\n",
      "                   GHcol           1\n",
      "                   GHgam          10\n",
      "                   GNgam          12\n",
      "dtype: int64\n",
      "p2_rfc_prediction\n",
      "0    2164\n",
      "1     120\n",
      "dtype: int64\n"
     ]
    }
   ],
   "source": [
    "# umap classification\n",
    "umap = pd.read_csv(\"results_hap_analysis/umap_classification.csv\", sep=\"\\t\")\n",
    "\n",
    "# per-hap sample table\n",
    "sampleh = pd.DataFrame(data={\n",
    "    \"ox_code\"    :  list(itertools.chain(*[[ s + 'a', s + 'b'] for s in samples_sub[\"ox_code\"].values.tolist()])),    # takes col from oc_samples and duplicates it, a/b\n",
    "    \"population\" :  list(itertools.chain(*[[ s      , s      ] for s in samples_sub[\"population\"].values.tolist()])),\n",
    "})\n",
    "\n",
    "umap_sampleh = sampleh.merge(umap)\n",
    "print(umap_sampleh.groupby([\"p2_rfc_prediction\",\"population\"]).size())\n",
    "print(umap_sampleh.groupby([\"p2_rfc_prediction\"]).size())"
   ]
  },
  {
   "cell_type": "code",
   "execution_count": 98,
   "metadata": {
    "scrolled": false
   },
   "outputs": [
    {
     "data": {
      "text/plain": [
       "(6799278,)"
      ]
     },
     "execution_count": 98,
     "metadata": {},
     "output_type": "execute_result"
    }
   ],
   "source": [
    "# create dictionary of haplotypes according to umap mappings\n",
    "popdich_clu = dict()\n",
    "popdich_clu[\"m280S\"] = np.where(umap_sampleh[\"p2_rfc_prediction\"] == 1)[0]\n",
    "popdich_clu[\"m280G\"] = np.where(umap_sampleh[\"p2_rfc_prediction\"] == 0)[0]\n",
    "\n",
    "# allele counts\n",
    "oc_hapalco_hap_clu_seg = haploty_seg.count_alleles_subpops(subpops=popdich_clu)\n",
    "oc_hapalco_hap_clu_seg.shape"
   ]
  },
  {
   "cell_type": "code",
   "execution_count": 99,
   "metadata": {},
   "outputs": [],
   "source": [
    "flank_bp_EHH  = 1e5   # num haplotypes to retain for EHH calculations\n",
    "ehh_above_thr = 0.95\n",
    "ehh_below_thr = 0.5\n",
    "colors = [\"forestgreen\",\"deeppink\",\"lightsteelblue\"]\n",
    "loc_start = ace_dups\n",
    "loc_end = ace_dupe"
   ]
  },
  {
   "cell_type": "code",
   "execution_count": 100,
   "metadata": {},
   "outputs": [
    {
     "name": "stdout",
     "output_type": "stream",
     "text": [
      "EHH m280S\n",
      "EHH m280G\n"
     ]
    },
    {
     "data": {
      "image/png": "[encoded data removed]",
      "text/plain": [
       "<Figure size 360x216 with 1 Axes>"
      ]
     },
     "metadata": {
      "needs_background": "light"
     },
     "output_type": "display_data"
    }
   ],
   "source": [
    "# variants to retain\n",
    "clu_varbool_up = np.logical_and(hapvars_seg[\"POS\"] >= loc_start-flank_bp_EHH, hapvars_seg[\"POS\"] < loc_start)\n",
    "clu_varbool_do = np.logical_and(hapvars_seg[\"POS\"] > loc_end, hapvars_seg[\"POS\"] <= loc_end+flank_bp_EHH)\n",
    "clu_varbool    = np.logical_or(clu_varbool_up,clu_varbool_do)\n",
    "# samples to remove from analysis (EHH function can't handle missing -1 data)\n",
    "rmv_miss_ix   = np.unique(np.where(haploty_seg.subset(sel0=clu_varbool) == -1)[1]).tolist()\n",
    "rmv_miss_bool = np.invert(np.isin(range(0,haploty_seg.n_haplotypes),test_elements=rmv_miss_ix))\n",
    "# positions\n",
    "clu_ehh_pos = hapvars_seg[\"POS\"].subset(sel0=clu_varbool)\n",
    "# plot\n",
    "pdf = PdfPages(\"%s/sel_%s_%s_EHHdecay.pdf\" % (outdir,chrom,l_nom))\n",
    "fig = plt.figure(figsize=(5,3))\n",
    "ax3 = plt.subplot(1, 1, 1)\n",
    "for i,clu_key in enumerate(popdich_clu.keys()):\n",
    "\tprint(\"EHH %s\" % clu_key)\n",
    "\t# which variants include in the cluster-wise analysis of selection?\n",
    "\tclu_sambool = np.isin(range(0,haploty_hap.n_haplotypes),test_elements=popdich_clu[clu_key])\n",
    "\tclu_sambool = np.logical_and(clu_sambool,rmv_miss_bool)\n",
    "\t\n",
    "\t# calculate actual EHH\n",
    "\tclu_ehh_up_i = allel.ehh_decay(h=haploty_hap.subset(sel0=clu_varbool_up,sel1=clu_sambool))\n",
    "\tclu_ehh_do_i = allel.ehh_decay(h=haploty_hap.subset(sel0=clu_varbool_do,sel1=clu_sambool))\n",
    "\tclu_ehh_i    = np.concatenate((clu_ehh_up_i[::-1],clu_ehh_do_i))\n",
    "\tclu_ehh_i_ar = np.trapz(clu_ehh_i)\n",
    "\tehh_above_start = clu_ehh_pos.compress(clu_ehh_i > ehh_above_thr)[0]\n",
    "\tehh_above_end   = clu_ehh_pos.compress(clu_ehh_i > ehh_above_thr)[-1]\n",
    "\tehh_below_start = clu_ehh_pos.compress(clu_ehh_i < ehh_below_thr)[0]\n",
    "\tehh_below_end   = clu_ehh_pos.compress(clu_ehh_i < ehh_below_thr)[-1]\n",
    "\t# lab is data\n",
    "\tclu_lab    = \"%s, n=%i, a=%.3f\\nEHH>%.2f: %i bp %i-%i\\nEHH<%.2f: %i bp %i-%i\" % (\n",
    "\t\tclu_key, len(popdich_clu[clu_key]),clu_ehh_i_ar, \n",
    "\t\tehh_above_thr, ehh_above_end-ehh_above_start, ehh_above_start, ehh_above_end,\n",
    "\t\tehh_below_thr, ehh_below_end-ehh_below_start, ehh_below_start, ehh_below_end\n",
    "\t)\n",
    "\t\n",
    "\t# plot EHH background & foreground\n",
    "\tax3.plot(clu_ehh_pos/1e6,clu_ehh_i,color=colors[i],label=clu_lab,mfc='none')\n",
    "sns.despine(ax=ax3,offset=10)\n",
    "ax3.set_title(\"EHH decay %s, %s:%i-%i +/- %i, n=%s vars\" % (l_nom,chrom,loc_start,loc_end,flank_bp_EHH,clu_ehh_pos.shape[0]))\n",
    "ax3.set_xlabel(\"Mb\")\n",
    "ax3.set_ylabel(\"EHH\")\n",
    "ax3.set_ylim(0,1)\n",
    "plt.axhline(ehh_above_thr, color='lightgray',linestyle=\":\",label=str(ehh_above_thr))\n",
    "plt.axhline(ehh_below_thr, color='lightgray',linestyle=\":\",label=str(ehh_below_thr))\n",
    "plt.axvline(loc_start/1e6, color='magenta',linestyle=\":\",label=\"gene\")\n",
    "plt.axvline(loc_end/1e6, color='magenta',linestyle=\":\",label=\"\")\n",
    "# ax3.legend(loc='center left', bbox_to_anchor=(1.1, 0.5))\n",
    "# save\n",
    "pdf.savefig(fig,bbox_inches='tight')\n",
    "pdf.close()\n"
   ]
  },
  {
   "cell_type": "markdown",
   "metadata": {},
   "source": [
    "Garud H statistics:"
   ]
  },
  {
   "cell_type": "code",
   "execution_count": 101,
   "metadata": {},
   "outputs": [
    {
     "name": "stdout",
     "output_type": "stream",
     "text": [
      "m280S\n",
      "H12 = 0.012383 +/- 0.000202 SE, n = 120\n",
      "m280G\n",
      "H12 = 0.005139 +/- 0.000114 SE, n = 2164\n",
      "m280S\n",
      "H2H1 = 0.902310 +/- 0.006040 SE, n = 120\n"
     ]
    },
    {
     "name": "stderr",
     "output_type": "stream",
     "text": [
      "/home/xavi/miniconda3/envs/ace/lib/python3.7/site-packages/ipykernel_launcher.py:71: MatplotlibDeprecationWarning: Adding an axes using the same arguments as a previous axes currently reuses the earlier instance.  In a future version, a new instance will always be created and returned.  Meanwhile, this warning can be suppressed, and the future behavior ensured, by passing a unique label to each axes instance.\n"
     ]
    },
    {
     "name": "stdout",
     "output_type": "stream",
     "text": [
      "m280G\n",
      "H2H1 = 0.703715 +/- 0.003877 SE, n = 2164\n"
     ]
    },
    {
     "name": "stderr",
     "output_type": "stream",
     "text": [
      "/home/xavi/miniconda3/envs/ace/lib/python3.7/site-packages/ipykernel_launcher.py:71: MatplotlibDeprecationWarning: Adding an axes using the same arguments as a previous axes currently reuses the earlier instance.  In a future version, a new instance will always be created and returned.  Meanwhile, this warning can be suppressed, and the future behavior ensured, by passing a unique label to each axes instance.\n"
     ]
    },
    {
     "name": "stdout",
     "output_type": "stream",
     "text": [
      "m280S\n",
      "h = 0.997505 +/- 0.000116 SE, n = 120\n"
     ]
    },
    {
     "name": "stderr",
     "output_type": "stream",
     "text": [
      "/home/xavi/miniconda3/envs/ace/lib/python3.7/site-packages/ipykernel_launcher.py:108: MatplotlibDeprecationWarning: Adding an axes using the same arguments as a previous axes currently reuses the earlier instance.  In a future version, a new instance will always be created and returned.  Meanwhile, this warning can be suppressed, and the future behavior ensured, by passing a unique label to each axes instance.\n"
     ]
    },
    {
     "name": "stdout",
     "output_type": "stream",
     "text": [
      "m280G\n",
      "h = 0.996713 +/- 0.000066 SE, n = 2164\n"
     ]
    },
    {
     "name": "stderr",
     "output_type": "stream",
     "text": [
      "/home/xavi/miniconda3/envs/ace/lib/python3.7/site-packages/ipykernel_launcher.py:108: MatplotlibDeprecationWarning: Adding an axes using the same arguments as a previous axes currently reuses the earlier instance.  In a future version, a new instance will always be created and returned.  Meanwhile, this warning can be suppressed, and the future behavior ensured, by passing a unique label to each axes instance.\n"
     ]
    },
    {
     "data": {
      "image/png": "[encoded data removed]",
      "text/plain": [
       "<Figure size 288x216 with 1 Axes>"
      ]
     },
     "metadata": {
      "needs_background": "light"
     },
     "output_type": "display_data"
    },
    {
     "data": {
      "image/png": "[encoded data removed]",
      "text/plain": [
       "<Figure size 288x216 with 1 Axes>"
      ]
     },
     "metadata": {
      "needs_background": "light"
     },
     "output_type": "display_data"
    },
    {
     "data": {
      "image/png": "[encoded data removed]",
      "text/plain": [
       "<Figure size 288x216 with 1 Axes>"
      ]
     },
     "metadata": {
      "needs_background": "light"
     },
     "output_type": "display_data"
    }
   ],
   "source": [
    "# Compute **Garud H statistics and haplotype diversity** for each cluster and estimates in the region of interest. Plots represent a wide region around the gene, and statistics are estimated from variants within the cluster only.\n",
    "# variants to examine\n",
    "block_size = 500\n",
    "step_len_hap  = 100\n",
    "# region to plot\n",
    "flanking_bp = 5e5\n",
    "clu_varbool = np.logical_and(\n",
    "\thapvars_seg[\"POS\"] >= loc_start-flanking_bp,\n",
    "\thapvars_seg[\"POS\"] <= loc_end+flanking_bp)\n",
    "# region to focus: statistics will be calcualted in this region\n",
    "clu_varbool_focus = np.logical_and(hapvars_seg[\"POS\"] > loc_start-1e4, hapvars_seg[\"POS\"] <= loc_end+1e4)\n",
    "\n",
    "\n",
    "# First, for H12 plot:\n",
    "# open PDF\n",
    "pdf = PdfPages(\"%s/sel_%s_%s_GarudH12.pdf\" % (outdir,chrom,l_nom))\n",
    "fig = plt.figure(figsize=(4,3))\n",
    "ax9 = plt.subplot(1, 1, 1)\n",
    "for i,clu_key in enumerate(popdich_clu.keys()):\n",
    "\t# which variants include in the cluster-wise analysis of selection?\n",
    "\tclu_sambool = np.isin(range(0,haploty_hap.n_haplotypes),test_elements=popdich_clu[clu_key])\n",
    "\tclu_sambool = np.logical_and(clu_sambool,rmv_miss_bool)\n",
    "\t# Garud H along chromosome\n",
    "\tclu_pos_wib = allel.moving_statistic(\n",
    "\t\thapvars_seg[\"POS\"].subset(sel0=clu_varbool), statistic=lambda v: v[0], size=block_size, step=step_len_hap)\n",
    "\tclu_gah_wib = allel.moving_garud_h(\n",
    "\t\thaploty_hap.subset(sel0=clu_varbool,sel1=clu_sambool), size=block_size, step=step_len_hap)\n",
    "\t\n",
    "\t# garud in focus region\n",
    "\tgah_focus_est = allel.moving_garud_h(haploty_hap.subset(sel0=clu_varbool_focus, sel1=clu_sambool), size=block_size,step=step_len_hap)\n",
    "\tgah_focus_est_jack = allel.stats.misc.jackknife(gah_focus_est[1], statistic=np.nanmean)\n",
    "\tclu_label = \"%s\\nH12 = %.6f +/- %.6f SE, n = %i\" % (clu_key, gah_focus_est_jack[0], gah_focus_est_jack[1],np.sum(clu_sambool))\n",
    "\tprint(clu_label)\n",
    "\t# plot\n",
    "\tplt.step(clu_pos_wib/1e6, clu_gah_wib[1], color=colors[i], label=clu_label)\n",
    "\t\n",
    "sns.despine(ax=ax9,offset=10)\n",
    "ax9.set_title(\"Garud H12 %s:%i-%i %s\" % (chrom,loc_start,loc_end,l_nom))\n",
    "ax9.set_ylim(0,1)\n",
    "ax9.set_xlabel(\"Mb\")\n",
    "ax9.set_ylabel(\"h\")\n",
    "plt.axvline(loc_start/1e6, color='magenta',linestyle=\":\",label=\"gene\")\n",
    "plt.axvline(loc_end/1e6, color='magenta',linestyle=\":\",label=\"\")\n",
    "ax9.legend(loc='center left', bbox_to_anchor=(1.1, 0.5))\n",
    "# save\n",
    "pdf.savefig(fig,bbox_inches='tight')\n",
    "pdf.close()\n",
    "\n",
    "\n",
    "# Now, same with H2/H1 plot:\n",
    "# open PDF\n",
    "pdf = PdfPages(\"%s/sel_%s_%s_GarudH2H1.pdf\" % (outdir,chrom,l_nom))\n",
    "fig = plt.figure(figsize=(4,3))\n",
    "ax9 = plt.subplot(1, 1, 1)\n",
    "for i,clu_key in enumerate(popdich_clu.keys()):\n",
    "\t# which variants include in the cluster-wise analysis of selection?\n",
    "\tclu_sambool = np.isin(range(0,haploty_hap.n_haplotypes),test_elements=popdich_clu[clu_key])\n",
    "\tclu_sambool = np.logical_and(clu_sambool,rmv_miss_bool)\n",
    "\t# Garud H along chromosome\n",
    "\tclu_pos_wib = allel.moving_statistic(\n",
    "\t\thapvars_seg[\"POS\"].subset(sel0=clu_varbool), statistic=lambda v: v[0], size=block_size,step=step_len_hap)\n",
    "\tclu_gah_wib = allel.moving_garud_h(\n",
    "\t\thaploty_hap.subset(sel0=clu_varbool,sel1=clu_sambool), size=block_size,step=step_len_hap)\n",
    "\t\n",
    "\t# garud in focus region\n",
    "\tgah_focus_est = allel.moving_garud_h(haploty_hap.subset(sel0=clu_varbool_focus, sel1=clu_sambool), size=block_size,step=step_len_hap)\n",
    "\tgah_focus_est_jack = allel.stats.misc.jackknife(gah_focus_est[3], statistic=np.nanmean)\n",
    "\tclu_label = \"%s\\nH2H1 = %.6f +/- %.6f SE, n = %i\" % (clu_key, gah_focus_est_jack[0], gah_focus_est_jack[1],np.sum(clu_sambool))\n",
    "\tprint(clu_label)\n",
    "\t# plot\n",
    "\tplt.subplot(1, 1, 1)\n",
    "\tplt.step(clu_pos_wib/1e6, clu_gah_wib[3], color=colors[i], label=clu_label)\n",
    "\t\n",
    "sns.despine(ax=ax9,offset=10)\n",
    "ax9.set_title(\"Garud H2H1 %s:%i-%i %s\" % (chrom,loc_start,loc_end,l_nom))\n",
    "ax9.set_ylim(0,1)\n",
    "ax9.set_xlabel(\"Mb\")\n",
    "ax9.set_ylabel(\"H2H1\")\n",
    "plt.axvline(loc_start/1e6, color='magenta',linestyle=\":\",label=\"gene\")\n",
    "plt.axvline(loc_end/1e6, color='magenta',linestyle=\":\",label=\"\")\n",
    "ax9.legend(loc='center left', bbox_to_anchor=(1.1, 0.5))\n",
    "# save\n",
    "pdf.savefig(fig,bbox_inches='tight')\n",
    "pdf.close()\n",
    "\n",
    "\n",
    "# Finally, haplotype diversity:\n",
    "# open PDF\n",
    "pdf = PdfPages(\"%s/sel_%s_%s_hapdiv.pdf\" % (outdir,chrom,l_nom))\n",
    "fig = plt.figure(figsize=(4,3))\n",
    "ax9 = plt.subplot(1, 1, 1)\n",
    "for i,clu_key in enumerate(popdich_clu.keys()):\n",
    "\t# which variants include in the cluster-wise analysis of selection?\n",
    "\tclu_sambool = np.isin(range(0,haploty_hap.n_haplotypes),test_elements=popdich_clu[clu_key])\n",
    "\tclu_sambool = np.logical_and(clu_sambool,rmv_miss_bool)\n",
    "\t# hap div along chromosome\n",
    "\tclu_pos_wib = allel.moving_statistic(\n",
    "\t\thapvars_seg[\"POS\"].subset(sel0=clu_varbool), statistic=lambda v: v[0], size=block_size,step=step_len_hap)\n",
    "\tclu_hdi_wib = allel.moving_haplotype_diversity(\n",
    "\t\thaploty_hap.subset(sel0=clu_varbool,sel1=clu_sambool), size=block_size,step=step_len_hap)\n",
    "\t\n",
    "\t# garud in focus region\n",
    "\tgah_focus_est = allel.moving_haplotype_diversity(haploty_hap.subset(sel0=clu_varbool_focus, sel1=clu_sambool), size=block_size,step=step_len_hap)\n",
    "\tgah_focus_est_jack = allel.stats.misc.jackknife(gah_focus_est, statistic=np.nanmean)\n",
    "\tclu_label = \"%s\\nh = %.6f +/- %.6f SE, n = %i\" % (clu_key, gah_focus_est_jack[0], gah_focus_est_jack[1],np.sum(clu_sambool))\n",
    "\tprint(clu_label)\n",
    "\t# plot\n",
    "\tplt.subplot(1, 1, 1)\n",
    "\tplt.step(clu_pos_wib/1e6, clu_hdi_wib, color=colors[i], label=clu_label)\n",
    "\t\n",
    "sns.despine(ax=ax9,offset=10)\n",
    "ax9.set_title(\"Hap diversity %s:%i-%i %s\" % (chrom,loc_start,loc_end,l_nom))\n",
    "ax9.set_ylim(0,1)\n",
    "ax9.set_xlabel(\"Mb\")\n",
    "ax9.set_ylabel(\"h\")\n",
    "plt.axvline(loc_start/1e6, color='magenta',linestyle=\":\",label=\"gene\")\n",
    "plt.axvline(loc_end/1e6, color='magenta',linestyle=\":\",label=\"\")\n",
    "ax9.legend(loc='center left', bbox_to_anchor=(1.1, 0.5))\n",
    "# save\n",
    "pdf.savefig(fig,bbox_inches='tight')\n",
    "pdf.close()\n",
    "\n"
   ]
  }
 ],
 "metadata": {
  "kernelspec": {
   "display_name": "Python 3",
   "language": "python",
   "name": "python3"
  },
  "language_info": {
   "codemirror_mode": {
    "name": "ipython",
    "version": 3
   },
   "file_extension": ".py",
   "mimetype": "text/x-python",
   "name": "python",
   "nbconvert_exporter": "python",
   "pygments_lexer": "ipython3",
   "version": "3.7.4"
  }
 },
 "nbformat": 4,
 "nbformat_minor": 2
}
